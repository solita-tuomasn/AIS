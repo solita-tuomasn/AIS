{
  "nbformat": 4,
  "nbformat_minor": 0,
  "metadata": {
    "colab": {
      "name": "AISdata.ipynb",
      "provenance": [],
      "collapsed_sections": [],
      "include_colab_link": true
    },
    "kernelspec": {
      "name": "python3",
      "display_name": "Python 3"
    },
    "language_info": {
      "name": "python"
    }
  },
  "cells": [
    {
      "cell_type": "markdown",
      "metadata": {
        "id": "view-in-github",
        "colab_type": "text"
      },
      "source": [
        "<a href=\"https://colab.research.google.com/github/solita-tuomasn/AIS/blob/main/AISdata.ipynb\" target=\"_parent\"><img src=\"https://colab.research.google.com/assets/colab-badge.svg\" alt=\"Open In Colab\"/></a>"
      ]
    },
    {
      "cell_type": "markdown",
      "metadata": {
        "id": "ieE2qnS_blCo"
      },
      "source": [
        "# WINTER 2018"
      ]
    },
    {
      "cell_type": "code",
      "metadata": {
        "colab": {
          "base_uri": "https://localhost:8080/"
        },
        "id": "kW80K0go-wKY",
        "outputId": "73d8880d-d87d-40f1-eba2-73643c34a119"
      },
      "source": [
        "import pandas as pd\n",
        "\n",
        "from google.colab import drive\n",
        "drive.mount('/content/drive')"
      ],
      "execution_count": null,
      "outputs": [
        {
          "output_type": "stream",
          "text": [
            "Mounted at /content/drive\n"
          ],
          "name": "stdout"
        }
      ]
    },
    {
      "cell_type": "code",
      "metadata": {
        "id": "dGyACZnAanS_",
        "colab": {
          "base_uri": "https://localhost:8080/"
        },
        "outputId": "29d77e86-7e98-4c0a-bb5c-fd946d42e2b1"
      },
      "source": [
        "from google.colab import drive\n",
        "drive.mount('/content/drive')"
      ],
      "execution_count": null,
      "outputs": [
        {
          "output_type": "stream",
          "text": [
            "Drive already mounted at /content/drive; to attempt to forcibly remount, call drive.mount(\"/content/drive\", force_remount=True).\n"
          ],
          "name": "stdout"
        }
      ]
    },
    {
      "cell_type": "code",
      "metadata": {
        "colab": {
          "base_uri": "https://localhost:8080/"
        },
        "id": "a5dimjzO-7Z6",
        "outputId": "0775abb6-8a19-4c02-ed04-ef6d7ce0a539"
      },
      "source": [
        "ais_data_path = '/content/drive/Shareddrives/A-ICE/Data/AIS/ais_baltic_sea.zip'\n",
        "\n",
        "import zipfile\n",
        "\n",
        "zf = zipfile.ZipFile(ais_data_path) #open zip-file\n",
        "ais_df = pd.read_csv(zf.open('training_set.csv')) #convert csv into Pandas dataframe"
      ],
      "execution_count": null,
      "outputs": [
        {
          "output_type": "stream",
          "text": [
            "/usr/local/lib/python3.7/dist-packages/IPython/core/interactiveshell.py:2718: DtypeWarning: Columns (15) have mixed types.Specify dtype option on import or set low_memory=False.\n",
            "  interactivity=interactivity, compiler=compiler, result=result)\n"
          ],
          "name": "stderr"
        }
      ]
    },
    {
      "cell_type": "code",
      "metadata": {
        "colab": {
          "base_uri": "https://localhost:8080/",
          "height": 221
        },
        "id": "jUkkt8c_F1uu",
        "outputId": "351edf19-52d0-4086-d167-98ac7ed51de3"
      },
      "source": [
        "ais_df = ais_df[['timestamp', 'mmsi', 'lat', 'lon', 'speed', 'course', 'heading']] #select needed columns\n",
        "print(ais_df.shape)\n",
        "ais_df.head()"
      ],
      "execution_count": null,
      "outputs": [
        {
          "output_type": "stream",
          "text": [
            "(14185046, 7)\n"
          ],
          "name": "stdout"
        },
        {
          "output_type": "execute_result",
          "data": {
            "text/html": [
              "<div>\n",
              "<style scoped>\n",
              "    .dataframe tbody tr th:only-of-type {\n",
              "        vertical-align: middle;\n",
              "    }\n",
              "\n",
              "    .dataframe tbody tr th {\n",
              "        vertical-align: top;\n",
              "    }\n",
              "\n",
              "    .dataframe thead th {\n",
              "        text-align: right;\n",
              "    }\n",
              "</style>\n",
              "<table border=\"1\" class=\"dataframe\">\n",
              "  <thead>\n",
              "    <tr style=\"text-align: right;\">\n",
              "      <th></th>\n",
              "      <th>timestamp</th>\n",
              "      <th>mmsi</th>\n",
              "      <th>lat</th>\n",
              "      <th>lon</th>\n",
              "      <th>speed</th>\n",
              "      <th>course</th>\n",
              "      <th>heading</th>\n",
              "    </tr>\n",
              "  </thead>\n",
              "  <tbody>\n",
              "    <tr>\n",
              "      <th>0</th>\n",
              "      <td>2017-11-02 11:19:07</td>\n",
              "      <td>205366000</td>\n",
              "      <td>54.347242</td>\n",
              "      <td>9.991140</td>\n",
              "      <td>4.01</td>\n",
              "      <td>56.6</td>\n",
              "      <td>56.0</td>\n",
              "    </tr>\n",
              "    <tr>\n",
              "      <th>1</th>\n",
              "      <td>2017-11-02 11:30:58</td>\n",
              "      <td>205366000</td>\n",
              "      <td>54.360348</td>\n",
              "      <td>10.025337</td>\n",
              "      <td>4.17</td>\n",
              "      <td>77.5</td>\n",
              "      <td>81.0</td>\n",
              "    </tr>\n",
              "    <tr>\n",
              "      <th>2</th>\n",
              "      <td>2017-11-02 11:37:58</td>\n",
              "      <td>205366000</td>\n",
              "      <td>54.359573</td>\n",
              "      <td>10.049203</td>\n",
              "      <td>4.48</td>\n",
              "      <td>92.4</td>\n",
              "      <td>92.0</td>\n",
              "    </tr>\n",
              "    <tr>\n",
              "      <th>3</th>\n",
              "      <td>2017-11-02 11:44:07</td>\n",
              "      <td>205366000</td>\n",
              "      <td>54.365497</td>\n",
              "      <td>10.071320</td>\n",
              "      <td>3.81</td>\n",
              "      <td>44.9</td>\n",
              "      <td>46.0</td>\n",
              "    </tr>\n",
              "    <tr>\n",
              "      <th>4</th>\n",
              "      <td>2017-11-02 11:56:08</td>\n",
              "      <td>205366000</td>\n",
              "      <td>54.370437</td>\n",
              "      <td>10.109498</td>\n",
              "      <td>2.73</td>\n",
              "      <td>103.6</td>\n",
              "      <td>103.0</td>\n",
              "    </tr>\n",
              "  </tbody>\n",
              "</table>\n",
              "</div>"
            ],
            "text/plain": [
              "             timestamp       mmsi        lat        lon  speed  course  heading\n",
              "0  2017-11-02 11:19:07  205366000  54.347242   9.991140   4.01    56.6     56.0\n",
              "1  2017-11-02 11:30:58  205366000  54.360348  10.025337   4.17    77.5     81.0\n",
              "2  2017-11-02 11:37:58  205366000  54.359573  10.049203   4.48    92.4     92.0\n",
              "3  2017-11-02 11:44:07  205366000  54.365497  10.071320   3.81    44.9     46.0\n",
              "4  2017-11-02 11:56:08  205366000  54.370437  10.109498   2.73   103.6    103.0"
            ]
          },
          "metadata": {
            "tags": []
          },
          "execution_count": 6
        }
      ]
    },
    {
      "cell_type": "code",
      "metadata": {
        "id": "8qUMVV_wBAGx",
        "colab": {
          "base_uri": "https://localhost:8080/",
          "height": 142
        },
        "outputId": "da19624a-d79a-4b74-e750-cf15f018680a"
      },
      "source": [
        "df = ais_df.head(3)[['lon', 'lat']]\n",
        "display(df)"
      ],
      "execution_count": null,
      "outputs": [
        {
          "output_type": "display_data",
          "data": {
            "text/html": [
              "<div>\n",
              "<style scoped>\n",
              "    .dataframe tbody tr th:only-of-type {\n",
              "        vertical-align: middle;\n",
              "    }\n",
              "\n",
              "    .dataframe tbody tr th {\n",
              "        vertical-align: top;\n",
              "    }\n",
              "\n",
              "    .dataframe thead th {\n",
              "        text-align: right;\n",
              "    }\n",
              "</style>\n",
              "<table border=\"1\" class=\"dataframe\">\n",
              "  <thead>\n",
              "    <tr style=\"text-align: right;\">\n",
              "      <th></th>\n",
              "      <th>lon</th>\n",
              "      <th>lat</th>\n",
              "    </tr>\n",
              "  </thead>\n",
              "  <tbody>\n",
              "    <tr>\n",
              "      <th>0</th>\n",
              "      <td>9.991140</td>\n",
              "      <td>54.347242</td>\n",
              "    </tr>\n",
              "    <tr>\n",
              "      <th>1</th>\n",
              "      <td>10.025337</td>\n",
              "      <td>54.360348</td>\n",
              "    </tr>\n",
              "    <tr>\n",
              "      <th>2</th>\n",
              "      <td>10.049203</td>\n",
              "      <td>54.359573</td>\n",
              "    </tr>\n",
              "  </tbody>\n",
              "</table>\n",
              "</div>"
            ],
            "text/plain": [
              "         lon        lat\n",
              "0   9.991140  54.347242\n",
              "1  10.025337  54.360348\n",
              "2  10.049203  54.359573"
            ]
          },
          "metadata": {
            "tags": []
          }
        }
      ]
    },
    {
      "cell_type": "code",
      "metadata": {
        "colab": {
          "base_uri": "https://localhost:8080/",
          "height": 174
        },
        "id": "or6C281l7D4E",
        "outputId": "fbbd3655-3608-4552-fbda-da17cd31e165"
      },
      "source": [
        "from sklearn.linear_model import LinearRegression\n",
        "m = LinearRegression()\n",
        "\n",
        "train = df.head(2)\n",
        "display(train)\n",
        "\n",
        "test = df.tail(1)\n",
        "display(test)"
      ],
      "execution_count": null,
      "outputs": [
        {
          "output_type": "display_data",
          "data": {
            "text/html": [
              "<div>\n",
              "<style scoped>\n",
              "    .dataframe tbody tr th:only-of-type {\n",
              "        vertical-align: middle;\n",
              "    }\n",
              "\n",
              "    .dataframe tbody tr th {\n",
              "        vertical-align: top;\n",
              "    }\n",
              "\n",
              "    .dataframe thead th {\n",
              "        text-align: right;\n",
              "    }\n",
              "</style>\n",
              "<table border=\"1\" class=\"dataframe\">\n",
              "  <thead>\n",
              "    <tr style=\"text-align: right;\">\n",
              "      <th></th>\n",
              "      <th>lon</th>\n",
              "      <th>lat</th>\n",
              "    </tr>\n",
              "  </thead>\n",
              "  <tbody>\n",
              "    <tr>\n",
              "      <th>0</th>\n",
              "      <td>9.991140</td>\n",
              "      <td>54.347242</td>\n",
              "    </tr>\n",
              "    <tr>\n",
              "      <th>1</th>\n",
              "      <td>10.025337</td>\n",
              "      <td>54.360348</td>\n",
              "    </tr>\n",
              "  </tbody>\n",
              "</table>\n",
              "</div>"
            ],
            "text/plain": [
              "         lon        lat\n",
              "0   9.991140  54.347242\n",
              "1  10.025337  54.360348"
            ]
          },
          "metadata": {
            "tags": []
          }
        },
        {
          "output_type": "display_data",
          "data": {
            "text/html": [
              "<div>\n",
              "<style scoped>\n",
              "    .dataframe tbody tr th:only-of-type {\n",
              "        vertical-align: middle;\n",
              "    }\n",
              "\n",
              "    .dataframe tbody tr th {\n",
              "        vertical-align: top;\n",
              "    }\n",
              "\n",
              "    .dataframe thead th {\n",
              "        text-align: right;\n",
              "    }\n",
              "</style>\n",
              "<table border=\"1\" class=\"dataframe\">\n",
              "  <thead>\n",
              "    <tr style=\"text-align: right;\">\n",
              "      <th></th>\n",
              "      <th>lon</th>\n",
              "      <th>lat</th>\n",
              "    </tr>\n",
              "  </thead>\n",
              "  <tbody>\n",
              "    <tr>\n",
              "      <th>2</th>\n",
              "      <td>10.049203</td>\n",
              "      <td>54.359573</td>\n",
              "    </tr>\n",
              "  </tbody>\n",
              "</table>\n",
              "</div>"
            ],
            "text/plain": [
              "         lon        lat\n",
              "2  10.049203  54.359573"
            ]
          },
          "metadata": {
            "tags": []
          }
        }
      ]
    },
    {
      "cell_type": "code",
      "metadata": {
        "colab": {
          "base_uri": "https://localhost:8080/"
        },
        "id": "a4bRqGbx7pXI",
        "outputId": "3f6b3679-bb88-4f34-a3b5-c59c3d1227f9"
      },
      "source": [
        "m.fit(train['lon'].values.reshape(-1, 1), train['lat'].values.reshape(-1,1))"
      ],
      "execution_count": null,
      "outputs": [
        {
          "output_type": "execute_result",
          "data": {
            "text/plain": [
              "LinearRegression(copy_X=True, fit_intercept=True, n_jobs=None, normalize=False)"
            ]
          },
          "metadata": {
            "tags": []
          },
          "execution_count": 9
        }
      ]
    },
    {
      "cell_type": "code",
      "metadata": {
        "colab": {
          "base_uri": "https://localhost:8080/"
        },
        "id": "Jqz-T3Nz8luA",
        "outputId": "58141ded-5f71-4102-ec94-e5b4c2335dcc"
      },
      "source": [
        "m.predict([[10.049203]])"
      ],
      "execution_count": null,
      "outputs": [
        {
          "output_type": "execute_result",
          "data": {
            "text/plain": [
              "array([[54.36949566]])"
            ]
          },
          "metadata": {
            "tags": []
          },
          "execution_count": 10
        }
      ]
    },
    {
      "cell_type": "code",
      "metadata": {
        "id": "kgxGGnsFaDZK"
      },
      "source": [
        ""
      ],
      "execution_count": null,
      "outputs": []
    }
  ]
}